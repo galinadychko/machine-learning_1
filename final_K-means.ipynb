{
 "cells": [
  {
   "cell_type": "markdown",
   "metadata": {},
   "source": [
    "# K-means (implementation)"
   ]
  },
  {
   "cell_type": "code",
   "execution_count": 1,
   "metadata": {
    "collapsed": true
   },
   "outputs": [],
   "source": [
    "import matplotlib.pyplot as plt\n",
    "import numpy as np\n",
    "from sklearn.cluster import KMeans\n",
    "import pandas as pd"
   ]
  },
  {
   "cell_type": "markdown",
   "metadata": {},
   "source": [
    "### Date loading"
   ]
  },
  {
   "cell_type": "code",
   "execution_count": 23,
   "metadata": {
    "collapsed": true
   },
   "outputs": [],
   "source": [
    "data = pd.read_excel('C:\\\\Users\\\\Galia\\\\desktop\\\\wine2.xlsx')\n",
    "X = data[['Alcogol', 'OD OD280/OD315 of diluted wines']]\n",
    "# print(X)\n",
    "X = X.as_matrix()"
   ]
  },
  {
   "cell_type": "markdown",
   "metadata": {},
   "source": [
    "### Hand writing functions "
   ]
  },
  {
   "cell_type": "code",
   "execution_count": null,
   "metadata": {
    "collapsed": true
   },
   "outputs": [],
   "source": [
    "#### For every point we count the distances to each centroid and choose  the min one\n",
    "#### So we classified points to their clusters\n",
    "#### Make the dictionary with the groups\\` numbers as keys and their points respectively\n",
    "#### Return this dictionaries with points"
   ]
  },
  {
   "cell_type": "code",
   "execution_count": 2,
   "metadata": {
    "collapsed": true
   },
   "outputs": [],
   "source": [
    "def cl_points(X, center):\n",
    "    n = X.shape[0]\n",
    "    clusters  = {}\n",
    "    all_dist = []\n",
    "    for x in X:\n",
    "        _C = []\n",
    "        for point in enumerate(center):\n",
    "            dist = np.linalg.norm(x - center[point[0]])\n",
    "            Npoint_dist = (point[0], dist)\n",
    "            _C.append(Npoint_dist)\n",
    "        all_dist.append(_C)\n",
    "        \n",
    "    min_dist = list(range(n))\n",
    "\n",
    "    for i in range(n):\n",
    "        min_dist[i] = min(all_dist[i], key = lambda x: x[1])[0]\n",
    "\n",
    "    for i in range(n):\n",
    "        try:\n",
    "            clusters[min_dist[i]].append(X[i])\n",
    "        except KeyError:\n",
    "            clusters[min_dist[i]] = [X[i]]\n",
    "    return clusters"
   ]
  },
  {
   "cell_type": "code",
   "execution_count": null,
   "metadata": {
    "collapsed": true
   },
   "outputs": [],
   "source": [
    "#### Calculate new centroids as average distance in every clusters respectively\n",
    "#### Return list with new coordinates of centroids"
   ]
  },
  {
   "cell_type": "code",
   "execution_count": 3,
   "metadata": {
    "collapsed": true
   },
   "outputs": [],
   "source": [
    "def new_center(clusters):\n",
    "    new_cent = []\n",
    "    for k in sorted(clusters.keys()):\n",
    "        c_mean = np.mean(clusters[k], axis = 0)\n",
    "        new_cent.append(c_mean)\n",
    "    return(new_cent)"
   ]
  },
  {
   "cell_type": "code",
   "execution_count": null,
   "metadata": {
    "collapsed": true
   },
   "outputs": [],
   "source": [
    "#### Check if two sets of centroids\\` coordinates are equal"
   ]
  },
  {
   "cell_type": "code",
   "execution_count": 4,
   "metadata": {
    "collapsed": true
   },
   "outputs": [],
   "source": [
    "def ident(center2, center):\n",
    "    S1 = set([tuple(i) for i in center])\n",
    "    S2 = set([tuple(i) for i in center2])\n",
    "    return S1 == S2"
   ]
  },
  {
   "cell_type": "code",
   "execution_count": null,
   "metadata": {
    "collapsed": true
   },
   "outputs": [],
   "source": [
    "#### Define two numpy arrays of centroids (centroids are rendom points from dataset)\n",
    "#### Create some first clusters\n",
    "#### Count new centroids\n",
    "#### Repeat creating and counting until centroids won\\'t be equal"
   ]
  },
  {
   "cell_type": "code",
   "execution_count": 18,
   "metadata": {
    "collapsed": true
   },
   "outputs": [],
   "source": [
    "def f_centers(X, K):\n",
    "    n = X.shape[0]\n",
    "    rng = np.random.RandomState(2)\n",
    "    i1 = rng.permutation(n)[: 3]\n",
    "    i2 = rng.permutation(n)[: 3]\n",
    "    c2 = X[i1]\n",
    "    c = X[i2]\n",
    "    while not ident(c, c2):\n",
    "        c2 = c\n",
    "        clusters = cl_points(X, c)\n",
    "        c = new_center(clusters)\n",
    "    return([c, clusters])"
   ]
  },
  {
   "cell_type": "markdown",
   "metadata": {},
   "source": [
    "# Checking on dataset"
   ]
  },
  {
   "cell_type": "code",
   "execution_count": 19,
   "metadata": {
    "collapsed": true
   },
   "outputs": [],
   "source": [
    "my_kmeans = f_centers(X, 3)"
   ]
  },
  {
   "cell_type": "code",
   "execution_count": null,
   "metadata": {
    "collapsed": true
   },
   "outputs": [],
   "source": [
    "### Just for convinients in later vizualization convert list of np.arrays into np.arrays of lists"
   ]
  },
  {
   "cell_type": "code",
   "execution_count": 24,
   "metadata": {},
   "outputs": [
    {
     "name": "stdout",
     "output_type": "stream",
     "text": [
      "[[ 13.07898305   1.74983051]\n",
      " [ 12.07981818   2.90290909]\n",
      " [ 13.7196875    3.1559375 ]]\n"
     ]
    }
   ],
   "source": [
    "cc = list(range(3))\n",
    "for i in range(len(my_kmeans[0])):\n",
    "    cc[i] = my_kmeans[0][i].tolist()\n",
    "    \n",
    "kcenters = np.array(cc)\n",
    "print(kcenters)"
   ]
  },
  {
   "cell_type": "code",
   "execution_count": null,
   "metadata": {
    "collapsed": true
   },
   "outputs": [],
   "source": [
    "### Function returns dictionary of clusters\n",
    "### For convinient visualization convert dictionary into np.array \n",
    "### which has numbers of clasters in corresponding place for each observation"
   ]
  },
  {
   "cell_type": "code",
   "execution_count": 25,
   "metadata": {
    "collapsed": true
   },
   "outputs": [],
   "source": [
    "KY = list(range(X.shape[0]))\n",
    "for j in range(len(my_kmeans[1][0])):\n",
    "    for i in range(X.shape[0]):\n",
    "        if X[i][0] == my_kmeans[1][0][j][0] and X[i][1] == my_kmeans[1][0][j][1]:\n",
    "            KY[i] = 3\n",
    "\n",
    "for j in range(len(my_kmeans[1][1])):\n",
    "    for i in range(X.shape[0]):\n",
    "        if X[i][0] == my_kmeans[1][1][j][0] and X[i][1] == my_kmeans[1][1][j][1]:\n",
    "            KY[i] = 2\n",
    "for j in range(len(my_kmeans[1][2])):\n",
    "    for i in range(X.shape[0]):\n",
    "        if X[i][0] == my_kmeans[1][2][j][0] and X[i][1] == my_kmeans[1][2][j][1]:\n",
    "            KY[i] = 1\n",
    "KYmeans = np.array(KY)"
   ]
  },
  {
   "cell_type": "markdown",
   "metadata": {},
   "source": [
    "### Graphical illustrations "
   ]
  },
  {
   "cell_type": "code",
   "execution_count": 26,
   "metadata": {},
   "outputs": [
    {
     "data": {
      "image/png": "[encoded data removed]",
      "text/plain": [
       "<matplotlib.figure.Figure at 0x17b73efafd0>"
      ]
     },
     "metadata": {},
     "output_type": "display_data"
    }
   ],
   "source": [
    "plt.scatter(X[:, 0], X[:, 1], c=KY, cmap='viridis', s = 20)\n",
    "plt.scatter(kcenters[:, 0], kcenters[:, 1], c='red', s=200, alpha=0.3)\n",
    "plt.show()"
   ]
  },
  {
   "cell_type": "markdown",
   "metadata": {},
   "source": [
    "### Python\\`s claster\\`s classification"
   ]
  },
  {
   "cell_type": "code",
   "execution_count": 27,
   "metadata": {
    "collapsed": true,
    "scrolled": true
   },
   "outputs": [],
   "source": [
    "kmeans = KMeans(n_clusters=3)\n",
    "kmeans.fit(X)\n",
    "y_kmeans = kmeans.predict(X)\n",
    "# print(y_kmeans)\n",
    "# print(Y)"
   ]
  },
  {
   "cell_type": "code",
   "execution_count": null,
   "metadata": {
    "collapsed": true
   },
   "outputs": [],
   "source": [
    "### Compare final centroids"
   ]
  },
  {
   "cell_type": "code",
   "execution_count": 33,
   "metadata": {},
   "outputs": [
    {
     "name": "stdout",
     "output_type": "stream",
     "text": [
      "sklearn cenaater \n",
      " [[ 13.71415385   3.14538462]\n",
      " [ 13.07413793   1.73741379]\n",
      " [ 12.07981818   2.90290909]] \n",
      " my center \n",
      " [[ 13.07898305   1.74983051]\n",
      " [ 12.07981818   2.90290909]\n",
      " [ 13.7196875    3.1559375 ]]\n"
     ]
    }
   ],
   "source": [
    "centers = kmeans.cluster_centers_\n",
    "print('sklearn center \\n {0} \\n my center \\n {1}'.format(centers, kcenters))"
   ]
  },
  {
   "cell_type": "code",
   "execution_count": 28,
   "metadata": {},
   "outputs": [
    {
     "data": {
      "image/png": "[encoded data removed]",
      "text/plain": [
       "<matplotlib.figure.Figure at 0x17b73efac18>"
      ]
     },
     "metadata": {},
     "output_type": "display_data"
    }
   ],
   "source": [
    "plt.scatter(X[:, 0], X[:, 1], c=y_kmeans, cmap='viridis', s = 20)\n",
    "centers = kmeans.cluster_centers_\n",
    "plt.scatter(centers[:, 0], centers[:, 1], c='red', s=200, alpha=0.3)\n",
    "plt.show()"
   ]
  }
 ],
 "metadata": {
  "kernelspec": {
   "display_name": "Python 3",
   "language": "python",
   "name": "python3"
  },
  "language_info": {
   "codemirror_mode": {
    "name": "ipython",
    "version": 3
   },
   "file_extension": ".py",
   "mimetype": "text/x-python",
   "name": "python",
   "nbconvert_exporter": "python",
   "pygments_lexer": "ipython3",
   "version": "3.6.2"
  }
 },
 "nbformat": 4,
 "nbformat_minor": 2
}
