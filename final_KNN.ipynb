{
 "cells": [
  {
   "cell_type": "markdown",
   "metadata": {},
   "source": [
    "# KNN (implementation)"
   ]
  },
  {
   "cell_type": "code",
   "execution_count": 1,
   "metadata": {
    "collapsed": true
   },
   "outputs": [],
   "source": [
    "import numpy as np\n",
    "import pandas as pd\n",
    "from scipy import stats\n",
    "from matplotlib import pyplot as plt"
   ]
  },
  {
   "cell_type": "code",
   "execution_count": null,
   "metadata": {
    "collapsed": true
   },
   "outputs": [],
   "source": [
    "# calc_all_distancies takes each point from \n",
    "#test sample and calculates the distance \n",
    "#to each point from main sample"
   ]
  },
  {
   "cell_type": "code",
   "execution_count": 3,
   "metadata": {
    "collapsed": true
   },
   "outputs": [],
   "source": [
    "def calc_all_distancies(data_x, unknown):\n",
    "    dists = []\n",
    "    for x in unknown:\n",
    "        dists.append([np.linalg.norm(x - i) for i in data_x])\n",
    "    return np.array(dists)"
   ]
  },
  {
   "cell_type": "code",
   "execution_count": null,
   "metadata": {
    "collapsed": true
   },
   "outputs": [],
   "source": [
    "# predict takes distances to each point \n",
    "#from main sample, \n",
    "#sorts it in descending order \n",
    "#chooses the k smallest distances and points respectively\n",
    "#From this chosen distances counts frequences of classes \n",
    "#(to which belongs this chosen points)\n",
    "#if the mode is equal for each class \n",
    "#function takes the smallest distance\n",
    "#else the most frequently occured"
   ]
  },
  {
   "cell_type": "code",
   "execution_count": 4,
   "metadata": {
    "collapsed": true
   },
   "outputs": [],
   "source": [
    "def predict(dists, data_y, k):\n",
    "    num_pred = dists.shape[0] \n",
    "    y_pred = np.zeros(num_pred)\n",
    "    \n",
    "    for j in range(num_pred):\n",
    "        dst = dists[j]\n",
    "        closest_y = data_y[dst.argsort()[:k]]\n",
    "        moda = stats.mode(closest_y, None)\n",
    "        if moda.count[0] == 1:\n",
    "            y_pred[j] = closest_y[0]\n",
    "        else:\n",
    "            y_pred[j] = moda.mode\n",
    "    return y_pred"
   ]
  },
  {
   "cell_type": "code",
   "execution_count": null,
   "metadata": {
    "collapsed": true
   },
   "outputs": [],
   "source": [
    "# Function takes training and test samples \n",
    "# Classifies test points\n",
    "# return dictionary of accuracy and missrecognized points"
   ]
  },
  {
   "cell_type": "code",
   "execution_count": 5,
   "metadata": {
    "collapsed": true
   },
   "outputs": [],
   "source": [
    "def classification(data_x, data_y, test_x, test_y, k):\n",
    "    distancies = calc_all_distancies(data_x,test_x)\n",
    "    yp = predict(distancies, data_y, k)\n",
    "    ac = sum(yp == test_y)/len(test_y)*100.\n",
    "    cond = yp!=test_y\n",
    "    d = {'accuracy' : ac, 'miss_points' : test_x[cond]}\n",
    "    return d"
   ]
  },
  {
   "cell_type": "markdown",
   "metadata": {},
   "source": [
    "# Checking on dataset"
   ]
  },
  {
   "cell_type": "code",
   "execution_count": 6,
   "metadata": {
    "collapsed": true
   },
   "outputs": [],
   "source": [
    "data = pd.read_excel('C:\\\\Users\\\\Galia\\\\desktop\\\\wine2.xlsx')\n",
    "X = data[['Alcogol', 'OD OD280/OD315 of diluted wines']]\n",
    "Y = data.Site\n",
    "X = X.as_matrix()\n",
    "Y = Y.as_matrix()"
   ]
  },
  {
   "cell_type": "code",
   "execution_count": null,
   "metadata": {
    "collapsed": true
   },
   "outputs": [],
   "source": [
    "#randomly chose training and test sets\n",
    "#training - 0.67, the reat - test sample"
   ]
  },
  {
   "cell_type": "code",
   "execution_count": 8,
   "metadata": {},
   "outputs": [],
   "source": [
    "ratio = 0.67\n",
    "n = data.shape[0]\n",
    "n_trn = int(ratio*n)\n",
    "ind = np.random.permutation(n)\n",
    "X = X[ind]\n",
    "Y = Y[ind]\n",
    "x_trn = X[: n_trn]\n",
    "y_trn = Y[: n_trn]\n",
    "x_tst = X[n_trn:]\n",
    "y_tst = Y[n_trn:]\n"
   ]
  },
  {
   "cell_type": "code",
   "execution_count": null,
   "metadata": {
    "collapsed": true
   },
   "outputs": [],
   "source": [
    "#apply knn classification"
   ]
  },
  {
   "cell_type": "code",
   "execution_count": 10,
   "metadata": {},
   "outputs": [],
   "source": [
    "m = classification(x_trn, y_trn, x_tst, y_tst, 2)"
   ]
  },
  {
   "cell_type": "markdown",
   "metadata": {},
   "source": [
    "# Graphical illustrations "
   ]
  },
  {
   "cell_type": "code",
   "execution_count": null,
   "metadata": {
    "collapsed": true
   },
   "outputs": [],
   "source": [
    "# green, yellow, violet - all initial data \n",
    "# bib light blue - randomly choosen test sample\n",
    "# light red - missclassified points"
   ]
  },
  {
   "cell_type": "code",
   "execution_count": 12,
   "metadata": {},
   "outputs": [
    {
     "data": {
      "image/png": "[encoded data removed]",
      "text/plain": [
       "<matplotlib.figure.Figure at 0x2884229dd68>"
      ]
     },
     "metadata": {},
     "output_type": "display_data"
    }
   ],
   "source": [
    "plt.scatter(X[:, 0], X[:, 1], c = Y, cmap='viridis', s = 10)\n",
    "plt.scatter(x_tst[:,0],x_tst[:,1], color='b', s = 40, alpha=0.3)\n",
    "plt.scatter(m['miss_points'][:,0], m['miss_points'][:,1], color='r', s = 100, alpha=0.3)\n",
    "plt.show()"
   ]
  }
 ],
 "metadata": {
  "kernelspec": {
   "display_name": "Python 3",
   "language": "python",
   "name": "python3"
  },
  "language_info": {
   "codemirror_mode": {
    "name": "ipython",
    "version": 3
   },
   "file_extension": ".py",
   "mimetype": "text/x-python",
   "name": "python",
   "nbconvert_exporter": "python",
   "pygments_lexer": "ipython3",
   "version": "3.6.2"
  }
 },
 "nbformat": 4,
 "nbformat_minor": 2
}
