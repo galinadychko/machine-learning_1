{
 "cells": [
  {
   "cell_type": "markdown",
   "metadata": {
    "collapsed": true
   },
   "source": [
    "# Linear Regression (implementation)"
   ]
  },
  {
   "cell_type": "code",
   "execution_count": 1,
   "metadata": {
    "collapsed": true
   },
   "outputs": [],
   "source": [
    "import numpy as np\n",
    "import pandas as pd\n",
    "import matplotlib as mpl\n",
    "import scipy\n",
    "from scipy import optimize"
   ]
  },
  {
   "cell_type": "markdown",
   "metadata": {},
   "source": [
    "### Function, which returns coefficients of linear regression model"
   ]
  },
  {
   "cell_type": "code",
   "execution_count": 2,
   "metadata": {
    "collapsed": true
   },
   "outputs": [],
   "source": [
    "def coef(X, Y):\n",
    "    n, d = X.shape\n",
    "\n",
    "# 1\n",
    "# creates lists with regressors\\` names if its possible\n",
    "# else rcreate numbers in ascending order \n",
    "# in both cases adds 'intercept'\n",
    "    try:\n",
    "        l = list(X.columns)\n",
    "    except:\n",
    "        l = list(range(1,d + 1))\n",
    "    finally:\n",
    "        l.insert(0, 'Intercept')\n",
    "\n",
    "# 2\n",
    "# conver data into matrices\n",
    "    if type(Y).__name__ != 'ndarray':\n",
    "        Y = Y.as_matrix()\n",
    "    if type(X).__name__ != 'ndarray':\n",
    "        X = X.as_matrix()\n",
    "# 3\n",
    "# Add ones column ito regressors matrix\n",
    "# Calculate transpose(X)*X in matrix sense\n",
    "\n",
    "    XD = np.hstack((np.ones((n, 1)), X))\n",
    "    XT = np.transpose(XD)\n",
    "    A = np.dot(XT, XD)\n",
    "# 4\n",
    "# If determinant of calculated function does not equal zero or is not near zero \n",
    "# We find coefficients with corresponding matrix multiplication\n",
    "# ELSE\n",
    "# We cannot find the inverse, so we find min of Cost functional \n",
    "# Cost functional is defined as sum of squared residuals\n",
    "    if round(np.linalg.det(A), 3) != 0.:\n",
    "        b = (np.linalg.inv(A).dot(XT)).dot(Y)\n",
    "        b = dict(zip(l, list(b)))\n",
    "        print('Method with inverse matrix')\n",
    "    else:\n",
    "        def CostF(betta):\n",
    "            d = np.dot(XD, betta) - Y\n",
    "            sqd = np.array(list(map(lambda x: x**2, d)))\n",
    "            s = sum(sqd)/(2*n)\n",
    "            return (s)\n",
    "        \n",
    "        b = (optimize.minimize(CostF, np.ones((d + 1, 1)))).x\n",
    "# 5 \n",
    "# Stick together names of regressors and their coefficients\n",
    "\n",
    "        b = dict(zip(l, list(b)))\n",
    "        print('Method with gradient descent')\n",
    "    return b"
   ]
  },
  {
   "cell_type": "markdown",
   "metadata": {},
   "source": [
    "За даними про котирування на американських фондових біржах акцій деяких компаній, що входять до індексу S&P 500 проводиться побудова лінійної регресійної.\n",
    "\n",
    "Із сайту компанії QuantQuote взято дані дат та цін акції на момент закриття біржових торгів таких 10 фірм:\n",
    "\n",
    "Allergan (agn) - фармацевтичної компанії\n",
    "\n",
    "American International Group (aig) - страхової корпорації\n",
    "\n",
    "Aimco or Apartment Investment Management Company (aiv) - приватного інвестиційного фонду для продажу нерухомості\n",
    "\n",
    "Assurant (aiz) - провайдер продуктів і послуг з управління ризиками\n",
    "\n",
    "Akamai Technologies (akam) — провайдера послуг cloud-сервісів\n",
    "\n",
    "The Allstate Corporation (all) - страхової компанії з особистого страхування\n",
    "\n",
    "Altera Corporation (altr) - виробника програмованих логічних пристроїв\n",
    "\n",
    "Alexion Pharmaceuticals (alxn) - фармацевтичної компанія\n",
    "\n",
    "Applied Materials (amat) — виробника інноваційного обладнання, сервісів та програмного забезпечення для виробництва напівпровідників, TFT LCD дисплеїв та комплектуючих для сонячних батарей\n",
    "\n",
    "Advanced Micro Devices (amd) - виробника інтегрованої електроніки\n",
    "\n",
    "Стовпчикам відаповідають дата та назви досліджуваних фірм, а стрічкам - значення дати та ціни акцій відповідних фірм на момент закриття біржових торгів."
   ]
  },
  {
   "cell_type": "markdown",
   "metadata": {},
   "source": [
    "Надалі спробуємо побудувати лінійну модель для прогнозу цін активів у час закриття біржових торгів компанії Apartment Investment Management Company (aiv) - приватного інвестиційного фонду для продажу нерухомості від цін акції усіх інших 9 компаній на момент закриття біржових торгів."
   ]
  },
  {
   "cell_type": "code",
   "execution_count": 3,
   "metadata": {
    "collapsed": true
   },
   "outputs": [],
   "source": [
    "data = pd.read_excel('C:\\\\Users\\\\Galia\\\\Desktop\\\\labs\\\\RETURNS.xlsx')"
   ]
  },
  {
   "cell_type": "code",
   "execution_count": 4,
   "metadata": {
    "collapsed": true
   },
   "outputs": [],
   "source": [
    "Y = data.aiv\n",
    "X = data[['agn', 'aig', 'aiz', 'akam', 'all', 'altr', 'alxn', 'amat', 'amd'\n",
    "]]\n",
    "# print(Y)\n",
    "# print(X)"
   ]
  },
  {
   "cell_type": "code",
   "execution_count": 5,
   "metadata": {},
   "outputs": [
    {
     "name": "stdout",
     "output_type": "stream",
     "text": [
      "Method with gradient descent\n",
      "{'Intercept': -0.21350940090424259, 1: -0.16795953988610346, 2: 0.41608623417180485, 3: 0.055568914192313912, 4: 0.25536568556218542, 5: 0.076717994054382899, 6: 0.51177119519110303, 7: 0.080296717655727504, 8: -0.021830789535425832, 9: 0.16452073497209352, 10: 0.011174796057160008}\n",
      "Method with inverse matrix\n",
      "{'Intercept': -0.23766560221480193, 'agn': 0.1002186217546569, 'aig': 0.057143778618438557, 'aiz': 0.23899018084754531, 'akam': 0.062278729158286472, 'all': 0.50715834379476543, 'altr': 0.086561984327758607, 'alxn': -0.0084782661193384956, 'amat': 0.17549939012251992, 'amd': 0.018522728534624888}\n"
     ]
    }
   ],
   "source": [
    "#case with dependent regressors (agn and 2*agn)\n",
    "XX = X.as_matrix()\n",
    "X1 = np.hstack((2*XX[:, 0].reshape(2394, 1), XX))\n",
    "db = coef(X1, Y)\n",
    "print(db)\n",
    "#case with independent regressors (primary sample)\n",
    "inb = coef(X, Y)\n",
    "print(inb)"
   ]
  },
  {
   "cell_type": "markdown",
   "metadata": {},
   "source": [
    "### Compare with python's implementation"
   ]
  },
  {
   "cell_type": "code",
   "execution_count": 6,
   "metadata": {
    "collapsed": true
   },
   "outputs": [],
   "source": [
    "from sklearn.linear_model import LinearRegression"
   ]
  },
  {
   "cell_type": "code",
   "execution_count": 13,
   "metadata": {},
   "outputs": [
    {
     "name": "stdout",
     "output_type": "stream",
     "text": [
      "[-0.23767, 0.10022, 0.05714, 0.23899, 0.06228, 0.50716, 0.08656, -0.00848, 0.1755, 0.01852]\n",
      "{'Intercept': -0.23766560221227273, 'agn': 0.10021862175282811, 'aig': 0.057143778618340135, 'aiz': 0.23899018084789908, 'akam': 0.062278729157856531, 'all': 0.50715834379496727, 'altr': 0.086561984326538471, 'alxn': -0.0084782661191864506, 'amat': 0.17549939012252294, 'amd': 0.018522728534756214}\n",
      "[-0.23767, 0.04009, 0.02004, 0.05714, 0.23899, 0.06228, 0.50716, 0.08656, -0.00848, 0.1755, 0.01852]\n",
      "{'Intercept': -0.23766560221227295, 1: 0.040087448701130783, 2: 0.020043724350565284, 3: 0.057143778618339733, 4: 0.23899018084789844, 5: 0.062278729157859439, 6: 0.50715834379496849, 7: 0.086561984326538638, 8: -0.0084782661191864714, 9: 0.17549939012252275, 10: 0.018522728534754451}\n"
     ]
    }
   ],
   "source": [
    "#independent\n",
    "LM.fit(X.as_matrix(), Y.as_matrix())\n",
    "l = list(X.columns)\n",
    "l.insert(0, 'Intercept')\n",
    "tb = dict(zip(l, np.append(LM.intercept_, LM.coef_)))\n",
    "print(list(map(lambda x: round(float(x), 5), list(tb.values()))))\n",
    "print(tb)\n",
    "\n",
    "#dependent\n",
    "LM = LinearRegression()\n",
    "LM.fit(X1, Y)\n",
    "l = list(range(1,X1.shape[1] + 1))\n",
    "l.insert(0, 'Intercept')\n",
    "tinb = dict(zip(l, np.append(LM.intercept_, LM.coef_)))\n",
    "print(list(map(lambda x: round(float(x), 5), list(tinb.values()))))\n",
    "print(tinb)\n"
   ]
  },
  {
   "cell_type": "markdown",
   "metadata": {},
   "source": [
    "###### Find the differences"
   ]
  },
  {
   "cell_type": "code",
   "execution_count": 15,
   "metadata": {},
   "outputs": [
    {
     "name": "stdout",
     "output_type": "stream",
     "text": [
      "[0.0, 0.0, 0.0, 0.0, 0.0, 0.0, 0.0, 0.0, 0.0, 0.0]\n",
      "[0.024159999999999987, -0.20805, 0.39605, -0.001570000000000002, 0.016379999999999978, 0.014439999999999995, 0.004609999999999892, -0.006260000000000002, -0.013349999999999999, -0.01097999999999999, -0.007349999999999999]\n"
     ]
    }
   ],
   "source": [
    "list1 = list(map(lambda x: round(float(x), 5), list(inb.values())))\n",
    "list2 = list(map(lambda x: round(float(x), 5), list(tb.values())))\n",
    "print(list(map(lambda x, y: x - y, list1, list2)))\n",
    "\n",
    "dlist1 = list(map(lambda x: round(float(x), 5), list(db.values())))\n",
    "dlist2 = list(map(lambda x: round(float(x), 5), list(tinb.values())))\n",
    "print(list(map(lambda x, y: x - y, dlist1, dlist2)))"
   ]
  }
 ],
 "metadata": {
  "kernelspec": {
   "display_name": "Python 3",
   "language": "python",
   "name": "python3"
  },
  "language_info": {
   "codemirror_mode": {
    "name": "ipython",
    "version": 3
   },
   "file_extension": ".py",
   "mimetype": "text/x-python",
   "name": "python",
   "nbconvert_exporter": "python",
   "pygments_lexer": "ipython3",
   "version": "3.6.2"
  }
 },
 "nbformat": 4,
 "nbformat_minor": 2
}
