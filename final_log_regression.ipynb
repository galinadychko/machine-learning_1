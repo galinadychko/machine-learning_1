{
 "cells": [
  {
   "cell_type": "markdown",
   "metadata": {},
   "source": [
    "# LogRegression (implementation)"
   ]
  },
  {
   "cell_type": "code",
   "execution_count": 1,
   "metadata": {
    "collapsed": true
   },
   "outputs": [],
   "source": [
    "import numpy as np\n",
    "import pandas as pd\n",
    "%matplotlib inline\n",
    "import matplotlib.pyplot as plt\n",
    "import scipy\n",
    "from scipy import optimize"
   ]
  },
  {
   "cell_type": "code",
   "execution_count": 2,
   "metadata": {
    "collapsed": true
   },
   "outputs": [],
   "source": [
    "import math\n",
    "from scipy.special import expit"
   ]
  },
  {
   "cell_type": "code",
   "execution_count": null,
   "metadata": {
    "collapsed": true
   },
   "outputs": [],
   "source": [
    "# logcoef gets datasets\n",
    "# returns dictionary with names or numbers \n",
    "#of regressors and coefficients respectively\n"
   ]
  },
  {
   "cell_type": "code",
   "execution_count": 3,
   "metadata": {
    "collapsed": true
   },
   "outputs": [],
   "source": [
    "def logcoef(X, Y):\n",
    "    n, d = X.shape\n",
    "\n",
    "# 1\n",
    "# creates lists with regressors\\` names if its possible\n",
    "# else rcreate numbers in ascending order \n",
    "# in both cases adds 'intercept'\n",
    "\n",
    "    try:\n",
    "        l = list(X.columns)\n",
    "    except:\n",
    "        l = list(range(1,d + 1))\n",
    "    finally:\n",
    "        l.insert(0, 'Intercept')\n",
    "\n",
    "# 2\n",
    "# conver data into matrices\n",
    "\n",
    "    try:\n",
    "        if type(Y).__name__ != 'ndarray':\n",
    "            Y = Y.as_matrix()\n",
    "        if type(X).__name__ != 'ndarray':\n",
    "            X = X.as_matrix()\n",
    "    except:\n",
    "        print(\"Error occurred: data cannot be converted into matix\")\n",
    "        \n",
    "# 3\n",
    "# If data doesn\\'t have 0-1 format\n",
    "# function trys to convert into it\n",
    "        \n",
    "    if all((Y[i] == 1 and Y[i] == 0) for i in Y) == False:\n",
    "        Y[Y != 1] = 0\n",
    "        print('Dependent categorical variable was resigned to (0, 1) values')\n",
    "# 4\n",
    "# Add ones column ito regressors matrix\n",
    "# Create cost function as earlier (at paper) simplified Y distribution with minus assigned\n",
    "\n",
    "    XD = np.hstack((np.ones((n, 1)), X))\n",
    "    def CostF(betta):\n",
    "        Xb = np.dot(XD, betta)\n",
    "        YXb = Y * Xb\n",
    "        e = np.exp(Xb)\n",
    "        s = -sum(YXb - np.log(1 + e))\n",
    "        return (s)\n",
    "# 5   \n",
    "# Minimize cost functon with gradient descent method\n",
    "\n",
    "    b = (optimize.minimize(CostF, np.ones((d + 1, 1))/100)).x\n",
    "    b = dict(zip(l, list(b)))\n",
    "    return b"
   ]
  },
  {
   "cell_type": "markdown",
   "metadata": {},
   "source": [
    "# Compare with already existed Python\\`s function"
   ]
  },
  {
   "cell_type": "code",
   "execution_count": 4,
   "metadata": {
    "collapsed": true
   },
   "outputs": [],
   "source": [
    "from sklearn.linear_model import LogisticRegression"
   ]
  },
  {
   "cell_type": "markdown",
   "metadata": {},
   "source": [
    "#### data loading"
   ]
  },
  {
   "cell_type": "code",
   "execution_count": 5,
   "metadata": {
    "collapsed": true
   },
   "outputs": [],
   "source": [
    "data = pd.read_excel('C:\\\\Users\\\\Galia\\\\desktop\\\\wine2.xlsx')\n",
    "data = data[ : 130]\n",
    "# print(data)"
   ]
  },
  {
   "cell_type": "code",
   "execution_count": 6,
   "metadata": {
    "collapsed": true
   },
   "outputs": [],
   "source": [
    "Y = data.Site\n",
    "X = data[['Alcogol', 'OD OD280/OD315 of diluted wines']]\n",
    "# print(Y)\n",
    "# print(X)"
   ]
  },
  {
   "cell_type": "markdown",
   "metadata": {},
   "source": [
    "### Use sklearn logRegression "
   ]
  },
  {
   "cell_type": "code",
   "execution_count": 7,
   "metadata": {},
   "outputs": [
    {
     "name": "stdout",
     "output_type": "stream",
     "text": [
      "[ 3.19764495 -0.18978803 -0.2212594 ]\n"
     ]
    }
   ],
   "source": [
    "LLM = LogisticRegression()\n",
    "LLM.fit(X, Y)\n",
    "plc = np.hstack((LLM.intercept_, LLM.coef_[0,:]))\n",
    "print(plc)"
   ]
  },
  {
   "cell_type": "code",
   "execution_count": 8,
   "metadata": {},
   "outputs": [
    {
     "name": "stdout",
     "output_type": "stream",
     "text": [
      "Dependent categorical variable was resigned to (0, 1) values\n",
      "{'Intercept': -74.511610733535846, 'Alcogol': 5.1285843437026486, 'OD OD280/OD315 of diluted wines': 2.5087460823715868}\n"
     ]
    }
   ],
   "source": [
    "lc = logcoef(X, Y)\n",
    "print(lc)"
   ]
  },
  {
   "cell_type": "markdown",
   "metadata": {},
   "source": [
    "### Visualization"
   ]
  },
  {
   "cell_type": "code",
   "execution_count": 12,
   "metadata": {},
   "outputs": [
    {
     "data": {
      "image/png": "[encoded data removed]",
      "text/plain": [
       "<matplotlib.figure.Figure at 0x1ed683b3358>"
      ]
     },
     "metadata": {},
     "output_type": "display_data"
    }
   ],
   "source": [
    "# convert data into matrices\n",
    "X = X.as_matrix()\n",
    "Y = Y.as_matrix()\n",
    "\n",
    "# define x axis bound and visualize points\n",
    "\n",
    "x = np.linspace(np.min(X[:, 0]), np.max(X[:, 0]), 1000)\n",
    "plt.scatter(X[:, 0], X[:, 1], c=Y, s = 20)\n",
    "\n",
    "# red line corresponds function with python\\`s coefficients\n",
    "# green - selfimplemented function\n",
    "plt.plot(x, (-plc[0]-plc[1]*x)/plc[2], c = 'red')\n",
    "plt.plot(x, (-lc['Intercept']-lc['Alcogol']*x)/lc['OD OD280/OD315 of diluted wines'], c = 'green')\n",
    "plt.show()"
   ]
  }
 ],
 "metadata": {
  "kernelspec": {
   "display_name": "Python 3",
   "language": "python",
   "name": "python3"
  },
  "language_info": {
   "codemirror_mode": {
    "name": "ipython",
    "version": 3
   },
   "file_extension": ".py",
   "mimetype": "text/x-python",
   "name": "python",
   "nbconvert_exporter": "python",
   "pygments_lexer": "ipython3",
   "version": "3.6.2"
  }
 },
 "nbformat": 4,
 "nbformat_minor": 2
}
